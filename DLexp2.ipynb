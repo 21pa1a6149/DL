{
  "nbformat": 4,
  "nbformat_minor": 0,
  "metadata": {
    "colab": {
      "provenance": [],
      "authorship_tag": "ABX9TyN+fWiSqTJF4n4IQHnvPowT",
      "include_colab_link": true
    },
    "kernelspec": {
      "name": "python3",
      "display_name": "Python 3"
    },
    "language_info": {
      "name": "python"
    }
  },
  "cells": [
    {
      "cell_type": "markdown",
      "metadata": {
        "id": "view-in-github",
        "colab_type": "text"
      },
      "source": [
        "<a href=\"https://colab.research.google.com/github/21pa1a6149/DL/blob/main/DLexp2.ipynb\" target=\"_parent\"><img src=\"https://colab.research.google.com/assets/colab-badge.svg\" alt=\"Open In Colab\"/></a>"
      ]
    },
    {
      "cell_type": "code",
      "execution_count": 1,
      "metadata": {
        "id": "L58sN577TzAs"
      },
      "outputs": [],
      "source": [
        "import numpy as np\n",
        "import random\n",
        "import sys"
      ]
    },
    {
      "cell_type": "code",
      "source": [
        "and_gate = [\n",
        "    [(-1,-1),-1],\n",
        "    [(-1,1),-1],\n",
        "    [(1,-1),-1],\n",
        "    [(1,1),1]\n",
        "]"
      ],
      "metadata": {
        "id": "8GCfrU08VYP-"
      },
      "execution_count": 7,
      "outputs": []
    },
    {
      "cell_type": "code",
      "source": [
        "or_gate = [\n",
        "    [(-1,-1),-1],\n",
        "    [(-1,1),1],\n",
        "    [(1,-1),1],\n",
        "    [(1,1),1]\n",
        "]"
      ],
      "metadata": {
        "id": "cJNv_Ya4Vuoi"
      },
      "execution_count": 8,
      "outputs": []
    },
    {
      "cell_type": "code",
      "source": [
        "def activation_fn(t):\n",
        "  if t>=0:\n",
        "    return 1\n",
        "  else:\n",
        "    return -1"
      ],
      "metadata": {
        "id": "iPP6bs9nXcbF"
      },
      "execution_count": 9,
      "outputs": []
    },
    {
      "cell_type": "code",
      "source": [
        "def and_or_preceptron(gate):\n",
        "  bias = (1,)\n",
        "  learning_constant = 0.1\n",
        "  n=50\n",
        "\n",
        "  weights = []\n",
        "  for i in range(3):\n",
        "    weights.append(random.uniform(-1,1))\n",
        "\n",
        "  for i in range(n):\n",
        "    inputs , expected_output = random.choice(gate)\n",
        "    inputs +=bias\n",
        "    weighted_sum = np.dot(inputs,weights)\n",
        "    output = activation_fn(weighted_sum)\n",
        "    loss = expected_output - output\n",
        "    weights += learning_constant*loss*np.asarray(inputs)\n",
        "  inputs , expected_output = random.choice(gate)\n",
        "  print(\"inputs :\"+str(inputs))\n",
        "  inputs +=bias\n",
        "  weighted_sum = np.dot(inputs,weights)\n",
        "  print(\"weighted sum:\"+str(weighted_sum))\n",
        "  print(\"expected output:\"+str(expected_output))\n",
        "  print(\"actual output:\"+str(activation_fn(weighted_sum))+'\\n')\n",
        "\n",
        "\n",
        "\n"
      ],
      "metadata": {
        "id": "oAoOPf4DV0RR"
      },
      "execution_count": 10,
      "outputs": []
    },
    {
      "cell_type": "code",
      "source": [
        "tests = 3\n",
        "for i in range(tests):\n",
        "    print(\"AND Gate\")\n",
        "    and_or_preceptron(and_gate)\n",
        "\n",
        "    print(\"OR Gate\")\n",
        "    and_or_preceptron(or_gate)"
      ],
      "metadata": {
        "colab": {
          "base_uri": "https://localhost:8080/"
        },
        "id": "zwK2UrEna8GO",
        "outputId": "153a0adc-97d2-45c7-b0c6-7960c4a1b98f"
      },
      "execution_count": 12,
      "outputs": [
        {
          "output_type": "stream",
          "name": "stdout",
          "text": [
            "AND Gate\n",
            "inputs :(-1, 1)\n",
            "weighted sum:-0.18905000726782628\n",
            "expected output:-1\n",
            "actual output:-1\n",
            "\n",
            "OR Gate\n",
            "inputs :(-1, 1)\n",
            "weighted sum:0.33246078503545784\n",
            "expected output:1\n",
            "actual output:1\n",
            "\n",
            "AND Gate\n",
            "inputs :(1, 1)\n",
            "weighted sum:0.3412472337069703\n",
            "expected output:1\n",
            "actual output:1\n",
            "\n",
            "OR Gate\n",
            "inputs :(-1, -1)\n",
            "weighted sum:-0.16674029980884175\n",
            "expected output:-1\n",
            "actual output:-1\n",
            "\n",
            "AND Gate\n",
            "inputs :(1, 1)\n",
            "weighted sum:0.08670587695784238\n",
            "expected output:1\n",
            "actual output:1\n",
            "\n",
            "OR Gate\n",
            "inputs :(1, 1)\n",
            "weighted sum:0.723222640424889\n",
            "expected output:1\n",
            "actual output:1\n",
            "\n"
          ]
        }
      ]
    }
  ]
}